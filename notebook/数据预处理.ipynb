{
 "cells": [
  {
   "cell_type": "code",
   "execution_count": 11,
   "metadata": {},
   "outputs": [],
   "source": [
    "import pandas as pd\n",
    "import torch\n",
    "import json\n",
    "\n",
    "from tqdm import tqdm\n",
    "from typing import Tuple,List, Dict"
   ]
  },
  {
   "cell_type": "code",
   "execution_count": 6,
   "metadata": {},
   "outputs": [
    {
     "name": "stdout",
     "output_type": "stream",
     "text": [
      "共53424个用户，10000本图书，5869631条记录\n"
     ]
    }
   ],
   "source": [
    "df = pd.read_csv('../data/train_dataset.csv')\n",
    "print('共{}个用户，{}本图书，{}条记录'.format(max(df['user_id'])+1, max(df['item_id'])+1, len(df)))"
   ]
  },
  {
   "cell_type": "code",
   "execution_count": 7,
   "metadata": {},
   "outputs": [
    {
     "data": {
      "text/html": [
       "<div>\n",
       "<style scoped>\n",
       "    .dataframe tbody tr th:only-of-type {\n",
       "        vertical-align: middle;\n",
       "    }\n",
       "\n",
       "    .dataframe tbody tr th {\n",
       "        vertical-align: top;\n",
       "    }\n",
       "\n",
       "    .dataframe thead th {\n",
       "        text-align: right;\n",
       "    }\n",
       "</style>\n",
       "<table border=\"1\" class=\"dataframe\">\n",
       "  <thead>\n",
       "    <tr style=\"text-align: right;\">\n",
       "      <th></th>\n",
       "      <th>user_id</th>\n",
       "      <th>item_id</th>\n",
       "    </tr>\n",
       "  </thead>\n",
       "  <tbody>\n",
       "    <tr>\n",
       "      <th>0</th>\n",
       "      <td>0</td>\n",
       "      <td>257</td>\n",
       "    </tr>\n",
       "    <tr>\n",
       "      <th>1</th>\n",
       "      <td>0</td>\n",
       "      <td>267</td>\n",
       "    </tr>\n",
       "    <tr>\n",
       "      <th>2</th>\n",
       "      <td>0</td>\n",
       "      <td>5555</td>\n",
       "    </tr>\n",
       "    <tr>\n",
       "      <th>3</th>\n",
       "      <td>0</td>\n",
       "      <td>3637</td>\n",
       "    </tr>\n",
       "    <tr>\n",
       "      <th>4</th>\n",
       "      <td>0</td>\n",
       "      <td>1795</td>\n",
       "    </tr>\n",
       "    <tr>\n",
       "      <th>...</th>\n",
       "      <td>...</td>\n",
       "      <td>...</td>\n",
       "    </tr>\n",
       "    <tr>\n",
       "      <th>5869626</th>\n",
       "      <td>49801</td>\n",
       "      <td>4655</td>\n",
       "    </tr>\n",
       "    <tr>\n",
       "      <th>5869627</th>\n",
       "      <td>49801</td>\n",
       "      <td>5091</td>\n",
       "    </tr>\n",
       "    <tr>\n",
       "      <th>5869628</th>\n",
       "      <td>49801</td>\n",
       "      <td>5294</td>\n",
       "    </tr>\n",
       "    <tr>\n",
       "      <th>5869629</th>\n",
       "      <td>49801</td>\n",
       "      <td>5608</td>\n",
       "    </tr>\n",
       "    <tr>\n",
       "      <th>5869630</th>\n",
       "      <td>49801</td>\n",
       "      <td>5683</td>\n",
       "    </tr>\n",
       "  </tbody>\n",
       "</table>\n",
       "<p>5869631 rows × 2 columns</p>\n",
       "</div>"
      ],
      "text/plain": [
       "         user_id  item_id\n",
       "0              0      257\n",
       "1              0      267\n",
       "2              0     5555\n",
       "3              0     3637\n",
       "4              0     1795\n",
       "...          ...      ...\n",
       "5869626    49801     4655\n",
       "5869627    49801     5091\n",
       "5869628    49801     5294\n",
       "5869629    49801     5608\n",
       "5869630    49801     5683\n",
       "\n",
       "[5869631 rows x 2 columns]"
      ]
     },
     "execution_count": 7,
     "metadata": {},
     "output_type": "execute_result"
    }
   ],
   "source": [
    "df"
   ]
  },
  {
   "cell_type": "code",
   "execution_count": 8,
   "metadata": {},
   "outputs": [
    {
     "name": "stderr",
     "output_type": "stream",
     "text": [
      "100%|██████████| 53424/53424 [07:23<00:00, 120.38it/s]\n"
     ]
    }
   ],
   "source": [
    "# 定义窗口大小和填充值\n",
    "window_size = 50\n",
    "fill_value = 10000\n",
    "min_sample = 10     # 不足窗口大小的数据至少的划分数（不包括验证和测试部分）\n",
    "\n",
    "def full_windows(df: pd.DataFrame, window_size: int, fill_value: int, \n",
    "                 min_sample: int=10) -> Tuple[List[Dict], List[Dict], List[Dict]]:\n",
    "    r\"\"\"划分窗口数据集, 同时划分出训练集、验证集和测试集\"\"\"\n",
    "    # 获取唯一用户ID\n",
    "    user_ids = df['user_id'].unique()\n",
    "    user_ids.sort()\n",
    "    windows = []\n",
    "    valids = []\n",
    "    tests = []\n",
    "\n",
    "    # PS：由于填充的存在，这里其实还可以生成更多/更少的样本\n",
    "    for user_id in tqdm(user_ids):\n",
    "        # 获取当前用户的所有交互\n",
    "        user_interactions = df[df['user_id'] == user_id]['item_id'].tolist()\n",
    "        n = len(user_interactions)\n",
    "    \n",
    "        # 如果交互数不足最小划分数\n",
    "        if n <= min_sample + 1:\n",
    "            raise RuntimeError(f\"min_sample should be set more largily than {n}!\")\n",
    "        \n",
    "        # 补全不足的交互\n",
    "        if n < window_size + min_sample + 1:\n",
    "            user_interactions = [fill_value] * (window_size+min_sample+1-n) + user_interactions\n",
    "            masks = [0] * (window_size+min_sample+1-n) + [1] * n\n",
    "            n = window_size + min_sample + 1\n",
    "        else:\n",
    "            masks = [1] * n\n",
    "            \n",
    "       # 采样训练集\n",
    "        for i in range(n - window_size - 1):\n",
    "            window = user_interactions[i: i+window_size]\n",
    "            mask = masks[i: i+window_size]\n",
    "            target = user_interactions[i+window_size]\n",
    "            windows.append({'user_id': int(user_id), 'window': window, 'mask': mask, 'target': int(target)})\n",
    "            \n",
    "        # 采样验证集\n",
    "        window = user_interactions[n-window_size-1: -1]\n",
    "        mask = masks[n-window_size-1: -1]\n",
    "        target = user_interactions[-1]\n",
    "        valids.append({'user_id': int(user_id), 'window': window, 'mask': mask, 'target': int(target)})\n",
    "            \n",
    "        # 采样测试集\n",
    "        window = user_interactions[n-window_size:]\n",
    "        mask = masks[n-window_size:]\n",
    "        tests.append({'user_id': int(user_id), 'window': window, 'mask': mask})\n",
    "    \n",
    "    return windows, valids, tests\n",
    "\n",
    "# 生成训练集和测试集\n",
    "windows, valids, tests = full_windows(df, window_size, fill_value, min_sample)"
   ]
  },
  {
   "cell_type": "code",
   "execution_count": 9,
   "metadata": {},
   "outputs": [],
   "source": [
    "# 一个中间步骤，保存预处理后的数据（不建议保存，因为信息量太大）\n",
    "# with open('../data/train_raw.json', 'w', encoding='utf-8') as fp:\n",
    "#     json.dump(windows, fp, indent=2, ensure_ascii=False)\n",
    "    \n",
    "# with open('../data/valid_raw.json', 'w', encoding='utf-8') as fp:\n",
    "#     json.dump(valids, fp, indent=2, ensure_ascii=False)\n",
    "    \n",
    "# with open('../data/test_raw.json', 'w', encoding='utf-8') as fp:\n",
    "#     json.dump(tests, fp, indent=2, ensure_ascii=False)"
   ]
  },
  {
   "cell_type": "code",
   "execution_count": 15,
   "metadata": {},
   "outputs": [
    {
     "name": "stderr",
     "output_type": "stream",
     "text": [
      "100%|██████████| 3172593/3172593 [00:01<00:00, 3167471.34it/s]\n",
      "100%|██████████| 53424/53424 [00:00<00:00, 1112870.61it/s]\n",
      "100%|██████████| 53424/53424 [00:00<00:00, 1618523.58it/s]\n"
     ]
    }
   ],
   "source": [
    "def data_process(data: List[Dict]) -> torch.LongTensor:\n",
    "    r\"\"\"数据集进一步处理, 得到tensor张量\"\"\"\n",
    "    X = []\n",
    "    y = []\n",
    "    for da in tqdm(data):\n",
    "        X.append(da['window'])\n",
    "        y.append(da['target'])\n",
    "    return torch.tensor(X).long(), torch.tensor(y).long()\n",
    "\n",
    "def test_process(data: List[Dict]) -> torch.LongTensor:\n",
    "    r\"\"\"数据集进一步处理, 得到tensor张量\"\"\"\n",
    "    X = []\n",
    "    for da in tqdm(data):\n",
    "        X.append(da['window'])\n",
    "    return torch.tensor(X).long()\n",
    "\n",
    "X_train, y_train = data_process(windows)\n",
    "X_valid, y_valid = data_process(valids)\n",
    "X_test = test_process(tests)"
   ]
  },
  {
   "cell_type": "code",
   "execution_count": 21,
   "metadata": {},
   "outputs": [
    {
     "data": {
      "text/plain": [
       "torch.Size([3172593, 50])"
      ]
     },
     "execution_count": 21,
     "metadata": {},
     "output_type": "execute_result"
    }
   ],
   "source": [
    "X_train.shape"
   ]
  },
  {
   "cell_type": "code",
   "execution_count": 22,
   "metadata": {},
   "outputs": [],
   "source": [
    "# 保存张量\n",
    "torch.save(X_train, '../data/X_train.pt')\n",
    "torch.save(y_train, '../data/y_train.pt')\n",
    "torch.save(X_valid, '../data/X_valid.pt')\n",
    "torch.save(y_valid, '../data/y_valid.pt')\n",
    "torch.save(X_test, '../data/X_test.pt')"
   ]
  }
 ],
 "metadata": {
  "kernelspec": {
   "display_name": "base",
   "language": "python",
   "name": "python3"
  },
  "language_info": {
   "codemirror_mode": {
    "name": "ipython",
    "version": 3
   },
   "file_extension": ".py",
   "mimetype": "text/x-python",
   "name": "python",
   "nbconvert_exporter": "python",
   "pygments_lexer": "ipython3",
   "version": "3.10.8 (main, Nov 24 2022, 14:13:03) [GCC 11.2.0]"
  },
  "orig_nbformat": 4,
  "vscode": {
   "interpreter": {
    "hash": "2f394aca7ca06fed1e6064aef884364492d7cdda3614a461e02e6407fc40ba69"
   }
  }
 },
 "nbformat": 4,
 "nbformat_minor": 2
}
